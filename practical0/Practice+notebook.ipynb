{
 "cells": [
  {
   "cell_type": "code",
   "execution_count": 1,
   "metadata": {
    "collapsed": true
   },
   "outputs": [],
   "source": [
    "%matplotlib inline "
   ]
  },
  {
   "cell_type": "code",
   "execution_count": 3,
   "metadata": {},
   "outputs": [],
   "source": [
    "import numpy as np\n",
    "import scipy as sc\n",
    "from matplotlib import pylab as plt"
   ]
  },
  {
   "cell_type": "code",
   "execution_count": 4,
   "metadata": {
    "collapsed": true
   },
   "outputs": [],
   "source": [
    "np.any? #checks documentation"
   ]
  },
  {
   "cell_type": "code",
   "execution_count": 6,
   "metadata": {
    "scrolled": true
   },
   "outputs": [
    {
     "data": {
      "text/plain": [
       "<function matplotlib.pyplot.show>"
      ]
     },
     "execution_count": 6,
     "metadata": {},
     "output_type": "execute_result"
    },
    {
     "data": {
      "image/png": "[encoded data removed]",
      "text/plain": [
       "<Figure size 432x288 with 1 Axes>"
      ]
     },
     "metadata": {},
     "output_type": "display_data"
    }
   ],
   "source": [
    "x=np.linspace(0,2*np.pi,100)\n",
    "y=np.cos(x)\n",
    "plt.plot(x, y)\n",
    "plt.show"
   ]
  },
  {
   "cell_type": "code",
   "execution_count": 7,
   "metadata": {},
   "outputs": [
    {
     "data": {
      "text/plain": [
       "(100,)"
      ]
     },
     "execution_count": 7,
     "metadata": {},
     "output_type": "execute_result"
    }
   ],
   "source": [
    "y.shape # in this case it tells us that it is an  100  array"
   ]
  },
  {
   "cell_type": "code",
   "execution_count": 8,
   "metadata": {},
   "outputs": [
    {
     "data": {
      "text/plain": [
       "50.5"
      ]
     },
     "execution_count": 8,
     "metadata": {},
     "output_type": "execute_result"
    }
   ],
   "source": [
    "y.dot(y)"
   ]
  },
  {
   "cell_type": "code",
   "execution_count": 10,
   "metadata": {},
   "outputs": [
    {
     "name": "stdout",
     "output_type": "stream",
     "text": [
      "0.5\n",
      "0.7283923978372839\n"
     ]
    }
   ],
   "source": [
    "print (1/2)\n",
    "print (1.45678479567456789/2) #Does not care about floating point"
   ]
  },
  {
   "cell_type": "code",
   "execution_count": 11,
   "metadata": {},
   "outputs": [
    {
     "name": "stdout",
     "output_type": "stream",
     "text": [
      "0\n",
      "1\n",
      "2\n",
      "3\n",
      "4\n",
      "5\n",
      "6\n",
      "7\n",
      "8\n",
      "9\n",
      "10\n",
      "11\n"
     ]
    }
   ],
   "source": [
    "x=0\n",
    "while x<12:\n",
    "    print(x)\n",
    "    x+= 1"
   ]
  },
  {
   "cell_type": "code",
   "execution_count": 13,
   "metadata": {},
   "outputs": [
    {
     "name": "stdout",
     "output_type": "stream",
     "text": [
      "0\n",
      "1\n",
      "2\n",
      "3\n",
      "4\n",
      "5\n",
      "6\n",
      "7\n",
      "8\n",
      "9\n"
     ]
    }
   ],
   "source": [
    "for x in range(10):\n",
    "    print (x)"
   ]
  },
  {
   "cell_type": "code",
   "execution_count": 15,
   "metadata": {},
   "outputs": [
    {
     "data": {
      "text/plain": [
       "<function matplotlib.pyplot.show>"
      ]
     },
     "execution_count": 15,
     "metadata": {},
     "output_type": "execute_result"
    },
    {
     "data": {
      "image/png": "[encoded data removed]",
      "text/plain": [
       "<Figure size 432x288 with 1 Axes>"
      ]
     },
     "metadata": {},
     "output_type": "display_data"
    }
   ],
   "source": [
    "def f(x=1):\n",
    "    y = x**4\n",
    "    return y\n",
    "x=np.asarray(range(20)) #make spaces on the x-axis\n",
    "y=f(x)\n",
    "plt.plot(x, y)\n",
    "plt.show"
   ]
  },
  {
   "cell_type": "code",
   "execution_count": 16,
   "metadata": {},
   "outputs": [
    {
     "name": "stdout",
     "output_type": "stream",
     "text": [
      "1\n"
     ]
    }
   ],
   "source": [
    "print (f()) #AS DEFINED IN CELL 15"
   ]
  },
  {
   "cell_type": "code",
   "execution_count": 17,
   "metadata": {},
   "outputs": [
    {
     "data": {
      "text/plain": [
       "(20,)"
      ]
     },
     "execution_count": 17,
     "metadata": {},
     "output_type": "execute_result"
    }
   ],
   "source": [
    "x.shape  #The returned value for the shape is a tuple. \n",
    "#It tells us that x is one-dimensional, and has 20 entries"
   ]
  },
  {
   "cell_type": "code",
   "execution_count": 18,
   "metadata": {},
   "outputs": [
    {
     "name": "stdout",
     "output_type": "stream",
     "text": [
      "(20,)\n",
      "20\n"
     ]
    }
   ],
   "source": [
    "m = x.shape\n",
    "print (m)\n",
    "print (m[0])\n",
    "#Remember the comma if you \n",
    "#want to define a tuple with only one entry!"
   ]
  },
  {
   "cell_type": "code",
   "execution_count": 19,
   "metadata": {
    "collapsed": true
   },
   "outputs": [],
   "source": [
    "numbers = [1.,2.,3.,4.,5.] #Lists"
   ]
  },
  {
   "cell_type": "code",
   "execution_count": 21,
   "metadata": {},
   "outputs": [
    {
     "name": "stdout",
     "output_type": "stream",
     "text": [
      "float64\n"
     ]
    }
   ],
   "source": [
    "numbers = np.asarray(numbers)#Convert to numpy array\n",
    "print (numbers.dtype)"
   ]
  },
  {
   "cell_type": "code",
   "execution_count": 22,
   "metadata": {},
   "outputs": [
    {
     "name": "stdout",
     "output_type": "stream",
     "text": [
      "int64\n"
     ]
    }
   ],
   "source": [
    "numbers = np.asarray(numbers, dtype=int)#Convert to numpy array\n",
    "print (numbers.dtype)"
   ]
  },
  {
   "cell_type": "code",
   "execution_count": 23,
   "metadata": {
    "collapsed": true
   },
   "outputs": [],
   "source": [
    "numbers = [1.,2.,3.,4.,5.] #Lists"
   ]
  },
  {
   "cell_type": "markdown",
   "metadata": {},
   "source": [
    "A list is different from a np.asarray"
   ]
  },
  {
   "cell_type": "code",
   "execution_count": 24,
   "metadata": {},
   "outputs": [
    {
     "name": "stdout",
     "output_type": "stream",
     "text": [
      "[1.0, 2.0, 3.0, 4.0, 5.0, 1.0, 2.0, 3.0, 4.0, 5.0]\n",
      "[1.0, 2.0, 3.0, 4.0, 5.0, 1.0, 2.0, 3.0, 4.0, 5.0]\n"
     ]
    }
   ],
   "source": [
    "print (numbers+numbers)#plots the LIST twice\n",
    "print (2*numbers)#plots the LIST twice"
   ]
  },
  {
   "cell_type": "markdown",
   "metadata": {},
   "source": [
    "Now we look at slicing:"
   ]
  },
  {
   "cell_type": "code",
   "execution_count": 26,
   "metadata": {},
   "outputs": [
    {
     "name": "stdout",
     "output_type": "stream",
     "text": [
      "[1.0, 2.0]\n",
      "[3.0, 4.0]\n",
      "[4.0, 5.0]\n",
      "[4.0, 5.0]\n",
      "5.0\n",
      "4.0\n"
     ]
    }
   ],
   "source": [
    "print (numbers[:2]) # print the first two entries.\n",
    "print (numbers[2:4]) #Here you need to remember that indexing starts at 0.\n",
    "print (numbers[3:]) # Print from the 3rd index until the end.\n",
    "print (numbers[3:]) # Print from the 3rd index until the end.\n",
    "print (numbers[-1]) # Print the last entry.\n",
    "print (numbers[-2]) # Print the second last entry."
   ]
  },
  {
   "cell_type": "code",
   "execution_count": null,
   "metadata": {
    "collapsed": true
   },
   "outputs": [],
   "source": [
    "print (len(numbers)) #number of elements in the array"
   ]
  },
  {
   "cell_type": "code",
   "execution_count": 27,
   "metadata": {},
   "outputs": [
    {
     "name": "stdout",
     "output_type": "stream",
     "text": [
      "[1.0, 2.0, 3.0, 4.0, 5.0, 10.0]\n"
     ]
    }
   ],
   "source": [
    "numbers.append(10.) # Add 10 to the end of the list.\n",
    "print (numbers)"
   ]
  },
  {
   "cell_type": "markdown",
   "metadata": {},
   "source": [
    "Dictionaries and key-value pairs"
   ]
  },
  {
   "cell_type": "code",
   "execution_count": 33,
   "metadata": {},
   "outputs": [
    {
     "data": {
      "text/plain": [
       "{'age': 40, 'phone': '021'}"
      ]
     },
     "execution_count": 33,
     "metadata": {},
     "output_type": "execute_result"
    }
   ],
   "source": [
    "people ={'Bob' : {'age' : 40 ,'phone' : '021'}, 'Ted' : {'age' : 50,'phone' : '012'}, 'Alice' : {'age' : 29, 'phone' : '051'}}\n",
    "people['Bob']"
   ]
  },
  {
   "cell_type": "code",
   "execution_count": 34,
   "metadata": {},
   "outputs": [
    {
     "data": {
      "text/plain": [
       "50"
      ]
     },
     "execution_count": 34,
     "metadata": {},
     "output_type": "execute_result"
    }
   ],
   "source": [
    "people['Ted']['age']"
   ]
  },
  {
   "cell_type": "code",
   "execution_count": 35,
   "metadata": {},
   "outputs": [
    {
     "data": {
      "text/plain": [
       "dict_keys(['Alice', 'Bob', 'Ted'])"
      ]
     },
     "execution_count": 35,
     "metadata": {},
     "output_type": "execute_result"
    }
   ],
   "source": [
    "people.keys() #to see whats in an unknown list"
   ]
  },
  {
   "cell_type": "code",
   "execution_count": 36,
   "metadata": {
    "scrolled": true
   },
   "outputs": [
    {
     "data": {
      "text/plain": [
       "dict_keys(['Alice', 'Bob', 'Ben', 'Ted'])"
      ]
     },
     "execution_count": 36,
     "metadata": {},
     "output_type": "execute_result"
    }
   ],
   "source": [
    "people['Ben'] = {'age': 100,'phone':'082'}   # Adding a new entry into the dictionary\n",
    "people.keys() #order doesnt matter in a dictionary"
   ]
  },
  {
   "cell_type": "markdown",
   "metadata": {},
   "source": [
    "### NUMPY"
   ]
  },
  {
   "cell_type": "code",
   "execution_count": 37,
   "metadata": {},
   "outputs": [
    {
     "name": "stdout",
     "output_type": "stream",
     "text": [
      "[[1. 2. 3.]\n",
      " [1. 1. 1.]]\n",
      "(2, 3)\n"
     ]
    }
   ],
   "source": [
    "A = np.array([[1.,2.,3.],[1,1,1]]) \n",
    "print (A)\n",
    "print (A.shape)"
   ]
  },
  {
   "cell_type": "code",
   "execution_count": 38,
   "metadata": {},
   "outputs": [
    {
     "name": "stdout",
     "output_type": "stream",
     "text": [
      "[[1. 1.]\n",
      " [2. 1.]\n",
      " [3. 1.]]\n"
     ]
    }
   ],
   "source": [
    "print (A.T)  # Easy way to get the transpose"
   ]
  },
  {
   "cell_type": "markdown",
   "metadata": {},
   "source": [
    "Matrix multiplication.\n",
    "First define a vector  x , we want to calculate the product  AxAx . This is done using the Numpy function, dot.\n",
    "\n",
    "Note:\n",
    "Matrix multiplication  ABAB  consists of taking the dot products between the rows of  AA  and the columns of  BB ."
   ]
  },
  {
   "cell_type": "code",
   "execution_count": 41,
   "metadata": {},
   "outputs": [
    {
     "data": {
      "text/plain": [
       "array([[6.],\n",
       "       [3.]])"
      ]
     },
     "execution_count": 41,
     "metadata": {},
     "output_type": "execute_result"
    }
   ],
   "source": [
    "x=np.array([[1],[1],[1]])\n",
    "A.dot(x)"
   ]
  },
  {
   "cell_type": "code",
   "execution_count": 42,
   "metadata": {},
   "outputs": [
    {
     "data": {
      "text/plain": [
       "array([[ 9., 11.],\n",
       "       [ 4.,  5.]])"
      ]
     },
     "execution_count": 42,
     "metadata": {},
     "output_type": "execute_result"
    }
   ],
   "source": [
    "B = np.array([[1,1],[1,2],[2,2]])\n",
    "A.dot(B)"
   ]
  },
  {
   "cell_type": "markdown",
   "metadata": {},
   "source": [
    "### Be aware:\n",
    "There is one peculiarity that trips people up all the time. Look at the following example."
   ]
  },
  {
   "cell_type": "code",
   "execution_count": 43,
   "metadata": {},
   "outputs": [
    {
     "name": "stdout",
     "output_type": "stream",
     "text": [
      "(3,)\n"
     ]
    }
   ],
   "source": [
    "x = np.array([1,2,1])\n",
    "print (x.shape)"
   ]
  },
  {
   "cell_type": "code",
   "execution_count": 44,
   "metadata": {},
   "outputs": [
    {
     "name": "stdout",
     "output_type": "stream",
     "text": [
      "[1 2 1]\n"
     ]
    }
   ],
   "source": [
    "print (x)"
   ]
  },
  {
   "cell_type": "code",
   "execution_count": 45,
   "metadata": {},
   "outputs": [
    {
     "name": "stdout",
     "output_type": "stream",
     "text": [
      "[1 2 1]\n"
     ]
    }
   ],
   "source": [
    "print (x.T)#At first, this\n",
    "#may look like a row vector. Let's try and take its transpose:"
   ]
  },
  {
   "cell_type": "markdown",
   "metadata": {},
   "source": [
    "**Nothing happened!** \n",
    "This is because $x$ is not a (2-dimensional) matrix, but a 1-dimensional array more akin to a list. Such a structure does not have a notion of a \"row\" or a \"column\" vector, so transposition does not work as expected.\n",
    "\n",
    "**There are different ways of fixing it.**"
   ]
  },
  {
   "cell_type": "code",
   "execution_count": 46,
   "metadata": {},
   "outputs": [
    {
     "name": "stdout",
     "output_type": "stream",
     "text": [
      "(1, 3)\n",
      "[[1 2 1]]\n"
     ]
    }
   ],
   "source": [
    "y = np.array([[1, 2, 1]])  # Define it to have two dimensions\n",
    "print (y.shape)\n",
    "print (y)"
   ]
  },
  {
   "cell_type": "code",
   "execution_count": 47,
   "metadata": {},
   "outputs": [
    {
     "name": "stdout",
     "output_type": "stream",
     "text": [
      "(3, 1)\n"
     ]
    }
   ],
   "source": [
    "print (y.T.shape)  # This is a column vector."
   ]
  },
  {
   "cell_type": "markdown",
   "metadata": {},
   "source": [
    "**Adding an axis**\n",
    "\n",
    "The following is the preferred way to add an axis.\n",
    "\n",
    "Note that one can add it in two different ways."
   ]
  },
  {
   "cell_type": "code",
   "execution_count": 48,
   "metadata": {},
   "outputs": [
    {
     "name": "stdout",
     "output_type": "stream",
     "text": [
      "y =  [[1]\n",
      " [2]\n",
      " [1]]\n",
      "z =  [[1 2 1]]\n"
     ]
    }
   ],
   "source": [
    "y = x[:,np.newaxis]\n",
    "print ('y = ',y)\n",
    "\n",
    "z = x[np.newaxis,:]\n",
    "print ('z = ',z)"
   ]
  },
  {
   "cell_type": "markdown",
   "metadata": {
    "collapsed": true
   },
   "source": [
    "### Broadcasting\n",
    "This is an advanced topic but you should be aware that numpy tries to understand what you want to do (in a well-defined way), even if you are not strictly mathematically correct. A good introduction to broadcasting is at http://docs.scipy.org/doc/numpy-1.10.1/user/basics.broadcasting.html\n",
    "\n",
    "Since it is such a useful device, we'll spend some time on it, although probably not something one would normally include in a first introduction.\n",
    "\n",
    "**Note:**\n",
    "* Broadcasting allows one to write very concise, unreadable code. Use with care!\n",
    "\n",
    "**Example:**\n",
    "\n",
    "Let us start with a simple example. Earlier we defined a matrix $A$:"
   ]
  },
  {
   "cell_type": "code",
   "execution_count": 9,
   "metadata": {},
   "outputs": [
    {
     "name": "stdout",
     "output_type": "stream",
     "text": [
      "[[1. 2. 3.]\n",
      " [1. 1. 1.]]\n"
     ]
    }
   ],
   "source": [
    "A = np.array([[1.,2.,3.],[1,1,1]]) \n",
    "print(A)"
   ]
  },
  {
   "cell_type": "code",
   "execution_count": 10,
   "metadata": {},
   "outputs": [
    {
     "name": "stdout",
     "output_type": "stream",
     "text": [
      "(2, 3)\n"
     ]
    }
   ],
   "source": [
    "print(A.shape)"
   ]
  },
  {
   "cell_type": "markdown",
   "metadata": {},
   "source": [
    "Command mode vs. Edit mode\n",
    "But first…something key to be aware of: Jupyter Notebooks have two different keyboard input modes:\n",
    "\n",
    "Command mode - binds the keyboard to notebook level actions. Indicated by a grey cell border with a blue left margin.\n",
    "\n",
    "Edit mode - when you’re typing in a cell. Indicated by a green cell border"
   ]
  },
  {
   "cell_type": "code",
   "execution_count": 11,
   "metadata": {},
   "outputs": [
    {
     "name": "stdout",
     "output_type": "stream",
     "text": [
      "[[1. 1.]\n",
      " [2. 1.]\n",
      " [3. 1.]]\n"
     ]
    }
   ],
   "source": [
    "print(A.T)#print the transpose"
   ]
  },
  {
   "cell_type": "code",
   "execution_count": 12,
   "metadata": {},
   "outputs": [
    {
     "name": "stdout",
     "output_type": "stream",
     "text": [
      "[[2. 3. 4.]\n",
      " [2. 2. 2.]]\n"
     ]
    }
   ],
   "source": [
    "print (A + np.ones(A.shape))#add one to each matrix element"
   ]
  },
  {
   "cell_type": "code",
   "execution_count": 13,
   "metadata": {},
   "outputs": [
    {
     "name": "stdout",
     "output_type": "stream",
     "text": [
      "[[2. 3. 4.]\n",
      " [2. 2. 2.]]\n"
     ]
    }
   ],
   "source": [
    "print(A+1)#or by doing this (done via broadcasting).broadcasts \n",
    "#the scalar  1  to an array of the \n",
    "#correct dimensions so that matrix addition is defined"
   ]
  },
  {
   "cell_type": "markdown",
   "metadata": {},
   "source": [
    "Mathematically $A+1$ makes no sense, but numpy understands what you want to do and broadcasts the scalar $1$ to an array of the correct dimensions so that matrix addition is defined.\n",
    "\n",
    "**In general**\n",
    "\n",
    "How does broadcasting work in general? Before we answer this question, it is useful to recall that the $+$ and $*$ operators in numpy both perform pointwise operations. This means we can illustrate all the ideas behind broadcasting using $+$. As a reminder: In order to do matrix multiplication one uses the `dot` method.\n",
    "\n",
    "How does broadcasting work if one wants to add two general multidimensional arrays? It is easy if they have the same dimensions, but for broadcasting they need not have the same dimensions or even the same number of dimensions.\n",
    "\n",
    "The rule for broadcasting is the following: \n",
    "\n",
    "One starts at the back of the two arrays  and compare their dimensions element wise. The two dimensions are compatible, if\n",
    "\n",
    "1. The two dimensions are the same\n",
    "2. One of the two dimensions is 1. \n",
    "\n",
    "A few examples will make this clear.\n",
    "\n",
    "**Example 1**\n",
    "\n",
    "```\n",
    "A (2D array): 4 x 1\n",
    "B (1D array):     3\n",
    "Result:       4 x 3 array\n",
    "```\n",
    "Since $A$ is a column vector, its column is repeated 3 times resulting in an $4\\times 3$ array with identical columns. Then the  1D array $B$ is expanded into an $4\\times 3$ array where every *row* of the expanded $B$ is a copy of the original $B$. \n",
    "\n",
    "In reality numpy does not really do the expanding explicitly; it would be wasteful. But that is the idea. \n",
    "\n"
   ]
  },
  {
   "cell_type": "code",
   "execution_count": 4,
   "metadata": {},
   "outputs": [
    {
     "name": "stdout",
     "output_type": "stream",
     "text": [
      "[[1]\n",
      " [1]\n",
      " [1]\n",
      " [1]]\n",
      "[1 2 3]\n"
     ]
    }
   ],
   "source": [
    "A= np.array([1,1,1,1])\n",
    "A= A[:,np.newaxis]\n",
    "B=np.array([1,2,3])\n",
    "print(A)\n",
    "print(B)"
   ]
  },
  {
   "cell_type": "code",
   "execution_count": 5,
   "metadata": {},
   "outputs": [
    {
     "name": "stdout",
     "output_type": "stream",
     "text": [
      "A: (4, 1)\n",
      "B: (3,)\n",
      "A+B: (4, 3)\n"
     ]
    }
   ],
   "source": [
    "print('A:', A.shape)\n",
    "print('B:', B.shape)\n",
    "print ('A+B:',(A+B).shape)"
   ]
  },
  {
   "cell_type": "code",
   "execution_count": 18,
   "metadata": {},
   "outputs": [
    {
     "name": "stdout",
     "output_type": "stream",
     "text": [
      "[[2 3 4]\n",
      " [2 3 4]\n",
      " [2 3 4]\n",
      " [2 3 4]]\n"
     ]
    }
   ],
   "source": [
    "print(A+B) #automatic broadcasting"
   ]
  },
  {
   "cell_type": "markdown",
   "metadata": {},
   "source": [
    "**Example 2**\n",
    "\n",
    "```\n",
    "A (3D array):   2 x 1 x 2\n",
    "B (2D array):       3 x 1\n",
    "A+B (3D array): 2 x 3 x 2 \n",
    "```\n",
    "What happens in this case is that first $B$ is expanded into an $3\\times 2$ array by copying its column. Then it is expanded into an $2\\times 3 \\times 2$ array by copying the whole thing twice. Then $A$ is expanded into an $2\\times 3 \\times 2$ array, by copying itself 3 times. "
   ]
  },
  {
   "cell_type": "code",
   "execution_count": 15,
   "metadata": {},
   "outputs": [
    {
     "name": "stdout",
     "output_type": "stream",
     "text": [
      "[[1 2]\n",
      " [3 4]]\n",
      "(2, 2)\n"
     ]
    }
   ],
   "source": [
    "A=np.array([[1,2],[3,4]])\n",
    "print(A)\n",
    "print(A.shape)"
   ]
  },
  {
   "cell_type": "code",
   "execution_count": 16,
   "metadata": {},
   "outputs": [
    {
     "name": "stdout",
     "output_type": "stream",
     "text": [
      "[[[1 2]]\n",
      "\n",
      " [[3 4]]]\n",
      "(2, 1, 2)\n"
     ]
    }
   ],
   "source": [
    "A=A[:,np.newaxis,:]\n",
    "print(A)\n",
    "print(A.shape)"
   ]
  },
  {
   "cell_type": "code",
   "execution_count": 17,
   "metadata": {},
   "outputs": [
    {
     "name": "stdout",
     "output_type": "stream",
     "text": [
      "[1 1 1]\n",
      "(3,)\n"
     ]
    }
   ],
   "source": [
    "B=np.array([1,1,1])\n",
    "print(B)\n",
    "print(B.shape)\n"
   ]
  },
  {
   "cell_type": "code",
   "execution_count": 18,
   "metadata": {},
   "outputs": [
    {
     "name": "stdout",
     "output_type": "stream",
     "text": [
      "[[1]\n",
      " [1]\n",
      " [1]]\n",
      "(3, 1)\n"
     ]
    }
   ],
   "source": [
    "B=B[:,np.newaxis]\n",
    "print(B)\n",
    "print(B.shape)"
   ]
  },
  {
   "cell_type": "code",
   "execution_count": null,
   "metadata": {},
   "outputs": [],
   "source": [
    "\n",
    "print ('A:  ', A.shape)\n",
    "print ('B:     ', B.shape)\n",
    "print ('A+B:',(A+B).shape)\n",
    "print (A+B)"
   ]
  },
  {
   "cell_type": "code",
   "execution_count": null,
   "metadata": {},
   "outputs": [],
   "source": [
    "#EVERYTHING WAS GIVEN UP TILL HERE, now is the example:"
   ]
  },
  {
   "cell_type": "code",
   "execution_count": null,
   "metadata": {},
   "outputs": [],
   "source": [
    "#Expand B into a 3x2 array,ex=exapand"
   ]
  },
  {
   "cell_type": "code",
   "execution_count": 23,
   "metadata": {},
   "outputs": [
    {
     "name": "stdout",
     "output_type": "stream",
     "text": [
      "[[0. 0.]\n",
      " [0. 0.]\n",
      " [0. 0.]]\n",
      "[[1. 0.]\n",
      " [1. 0.]\n",
      " [1. 0.]]\n",
      "[[1. 1.]\n",
      " [1. 1.]\n",
      " [1. 1.]]\n"
     ]
    }
   ],
   "source": [
    "#𝐵  is expanded into an 3×2 array by copying its column. \n",
    "Bexp=np.zeros((3,2))\n",
    "print(Bexp)\n",
    "Bexp[:,0] = B[:,0]#make 1st comlums with ones\n",
    "print(Bexp)\n",
    "Bexp[:,1] = B[:,0]\n",
    "print(Bexp)"
   ]
  },
  {
   "cell_type": "code",
   "execution_count": 33,
   "metadata": {},
   "outputs": [
    {
     "name": "stdout",
     "output_type": "stream",
     "text": [
      "[[[1. 1.]\n",
      "  [1. 1.]\n",
      "  [1. 1.]]\n",
      "\n",
      " [[1. 1.]\n",
      "  [1. 1.]\n",
      "  [1. 1.]]]\n"
     ]
    }
   ],
   "source": [
    "#Then it is expanded into an 2×3×2 array by copying the whole thing twice\n",
    "Bfinal=np.zeros((2,3,2))\n",
    "#print(Bfinal)\n",
    "Bfinal[0,:,:]=Bexp\n",
    "#print(Bexp)\n",
    "Bfinal[1,:,:]=Bexp#copy the whole thing twice\n",
    "print(Bfinal)"
   ]
  },
  {
   "cell_type": "markdown",
   "metadata": {},
   "source": [
    "Now we do the expansion for $A$, basically copying it 3 times:"
   ]
  },
  {
   "cell_type": "code",
   "execution_count": 37,
   "metadata": {},
   "outputs": [
    {
     "name": "stdout",
     "output_type": "stream",
     "text": [
      "[[[1. 2.]\n",
      "  [0. 0.]\n",
      "  [0. 0.]]\n",
      "\n",
      " [[3. 4.]\n",
      "  [0. 0.]\n",
      "  [0. 0.]]]\n",
      "[[[1. 2.]\n",
      "  [1. 2.]\n",
      "  [0. 0.]]\n",
      "\n",
      " [[3. 4.]\n",
      "  [3. 4.]\n",
      "  [0. 0.]]]\n",
      "[[[1. 2.]\n",
      "  [1. 2.]\n",
      "  [1. 2.]]\n",
      "\n",
      " [[3. 4.]\n",
      "  [3. 4.]\n",
      "  [3. 4.]]]\n"
     ]
    }
   ],
   "source": [
    "Aexp = np.zeros((2,3,2))\n",
    "Aexp[:,0,:] = A[:,0,:]\n",
    "print(Aexp)\n",
    "Aexp[:,1,:] = A[:,0,:]\n",
    "print(Aexp)\n",
    "Aexp[:,2,:] = A[:,0,:]\n",
    "print(Aexp)"
   ]
  },
  {
   "cell_type": "markdown",
   "metadata": {},
   "source": [
    "### Homework:\n",
    "\n",
    "As a practical example where broadcasting comes in useful, you will now write a function that assigns a number observations into one of $k$ classes. Assume that each class is represented by a single feature vector - for instance, the sample mean of some points from the class. The simple assignment rule you will use is to assign future observations to the class whose feature vector is the closest to the observation.\n",
    "\n",
    "The straightforward way of doing this for a set of observations is to loop through them, and for each one calculate the distance to each of the $k$ class features (another loop). Try this by all means, especially if you are new to Python.\n",
    "\n",
    "The faster way of doing this is to use broadcasting, followed by the `np.norm` (to calculate the distances), and \n",
    "`np.argmin` (to calculate the closest class feature).\n",
    "\n",
    "Below some skeleton code is given and you are supposed to provide the missing code.  Note that np.newaxis may be useful to facilitate the broadcasting required.\n",
    "\n",
    "By the way, this code forms the core of $k$-means clustering."
   ]
  },
  {
   "cell_type": "code",
   "execution_count": 43,
   "metadata": {},
   "outputs": [],
   "source": [
    "def nearest_feature(data, means):\n",
    "    '''\n",
    "    Classify data values to the class represented by the nearest prototype \n",
    "    feature vector.\n",
    "    \n",
    "    Parameters\n",
    "    ----------\n",
    "    data : (d,N) ndarray \n",
    "         N feature vectors each of dimension d. Each feature vector is assigned\n",
    "         to one of k classes.\n",
    "    means : (d,k) ndarray\n",
    "         k prototype feature vectors representing the k different classes.\n",
    "         \n",
    "    Return\n",
    "    ------\n",
    "    labels : (N,) int array\n",
    "           The class labels for each feature. \n",
    "           \n",
    "    Note \n",
    "    ----\n",
    "    This function uses broadcasting to efficiently do the assignments.\n",
    "    \n",
    "    Example\n",
    "    -------\n",
    "    >>>data = np.array([[0.5,1.5,2.1,0.1],[0.5,2.9,3.9,-0.1]])\n",
    "    >>>means = np.array([[0,1,2],[0,3,4]])\n",
    "    >>>labels = nearest_feature(data,means)\n",
    "    >>>print(labels)\n",
    "    Out:\n",
    "       [0 1 2 0]\n",
    "    '''\n",
    "    data = data.T   \n",
    "    # Insert one line of code here\n",
    "    #dist=data[:,:,np.newaxis]-means[np.newaxis,:]\n",
    "    data=data[:,:,np.newaxis]\n",
    "    print(data.shape)\n",
    "    means=means[np.newaxis,:]\n",
    "    print(means.shape)\n",
    "    dist=data-means\n",
    "    \n",
    "    err = np.linalg.norm(dist,axis=1)\n",
    "    labels = np.argmin(err,axis=1)\n",
    "    return labels"
   ]
  },
  {
   "cell_type": "code",
   "execution_count": 44,
   "metadata": {},
   "outputs": [
    {
     "name": "stdout",
     "output_type": "stream",
     "text": [
      "(2, 4)\n",
      "(2, 3)\n",
      "(4, 2, 1)\n",
      "(1, 2, 3)\n",
      "[0 1 2 0]\n"
     ]
    }
   ],
   "source": [
    "data = np.array([[0.5,1.5,2.1,0.1],[0.5,2.9,3.9,-0.1]])\n",
    "print(data.shape)\n",
    "means = np.array([[0,1,2],[0,3,4]])\n",
    "print(means.shape)\n",
    "labels = nearest_feature(data,means)\n",
    "print(labels)"
   ]
  },
  {
   "cell_type": "markdown",
   "metadata": {},
   "source": [
    "### Using functions and widgets\n",
    "\n",
    "We now turn to a nontrivial example illustrating both the use of functions, as well as widgets. At the same time it is a great demonstration of the difference between pointwise and uniform convergence.\n",
    "\n",
    "The sine series of the periodic function ($f(x)=f(x+2 \\pi$),\n",
    "\n",
    "$$f(x) = \\left\\{ \\begin{array}{rc} -0.5 & -\\pi<x<0\\\\ 0.5 & 0<x<\\pi \\end{array} \\right., $$\n",
    "is given by \n",
    "\n",
    "$$\n",
    "f(x) = \\sum_{n=1}^{\\infty} b_n \\sin(x),$$\n",
    "with\n",
    "$$b_n = \\frac{1}{n\\pi} (1-\\cos(n\\pi)).$$"
   ]
  },
  {
   "cell_type": "code",
   "execution_count": 45,
   "metadata": {},
   "outputs": [],
   "source": [
    "from ipywidgets import interact"
   ]
  },
  {
   "cell_type": "code",
   "execution_count": 54,
   "metadata": {},
   "outputs": [],
   "source": [
    "def jump(k=1):\n",
    "   pi = np.pi\n",
    "   points = 256  # The number of spatial points\n",
    "\n",
    "   x = np.linspace(-pi,pi,points,endpoint=False)\n",
    "\n",
    "   f = 0\n",
    "   for n in range(1,k+1):\n",
    "      f = f+np.sin(n*x)*(1.- (-1)**n)/(pi*n)\n",
    "   plt.plot(x,f)\n",
    "   plt.title('Fourier approximation, using '+str(k)+' terms',size=15)\n",
    "   plt.xlabel('x',size=25)     \n",
    "   plt.show()"
   ]
  },
  {
   "cell_type": "code",
   "execution_count": 56,
   "metadata": {},
   "outputs": [
    {
     "data": {
      "application/vnd.jupyter.widget-view+json": {
       "model_id": "423cdfd37d1d47fc8ca2d714a8d37e9c",
       "version_major": 2,
       "version_minor": 0
      },
      "text/plain": [
       "interactive(children=(IntSlider(value=1, description='k', max=128, min=1), Output()), _dom_classes=('widget-in…"
      ]
     },
     "metadata": {},
     "output_type": "display_data"
    }
   ],
   "source": [
    "w = interact(jump, k =(1, 128))"
   ]
  },
  {
   "cell_type": "code",
   "execution_count": 65,
   "metadata": {},
   "outputs": [],
   "source": [
    "'''Module containing a DensityFunc abstract class, with common \n",
    "probability densities\n",
    "\n",
    "@since: Jan 10, 2013\n",
    "\n",
    "@author: kroon, herbst\n",
    "'''\n",
    "\n",
    "from __future__ import division\n",
    "\n",
    "import numpy as np\n",
    "\n",
    "\n",
    "class Gaussian(object):\n",
    "    '''\n",
    "    Class for representing a multi-dimensional Gaussian distribution of \n",
    "    dimension d.\n",
    "    The class can instanciated by providing the means and covariance.\n",
    "    If the mean and covariance are not given then a Gaussian model can be \n",
    "    fittedto the data. \n",
    "    \n",
    "    Note: The covariance matrix has to be  symmetric, positive definite and \n",
    "          non-singular.\n",
    "    \n",
    "    Parameters\n",
    "    ----------\n",
    "    \n",
    "    mean : (d,) ndarray\n",
    "       mean of the distribution\n",
    "    cov  : (d,d) ndarray\n",
    "       Covariance matrix. \n",
    "    \n",
    "    Methods\n",
    "    -------\n",
    "    fit\n",
    "       Fit a Gaussian model to the data.\n",
    "    \n",
    "    f \n",
    "       Returns the value of the density function\n",
    "    logf\n",
    "       Returns the log of the density function\n",
    "    likelihood\n",
    "       Returns the likelihood of the data\n",
    "    loglik\n",
    "       Returns the log-likelihood of the data\n",
    "    sample\n",
    "       Returns samples drawn from the normal distribution with the given\n",
    "       mean and covariance\n",
    "    \n",
    "    \n",
    "    Example\n",
    "    -------\n",
    "    >>> import gaussian as gauss\n",
    "    >>> # Scalar example\n",
    "    >>>mean = np.array([10.])\n",
    "    >>>cov  = np.array([[1.]])\n",
    "    >>>ga   = gauss.Gaussian(mean,cov)\n",
    "    >>>print (ga.f([10.]))\n",
    "       0.398942280401        \n",
    "    >>>x = np.array([[10.],[10.],[10.]])\n",
    "    >>>print (ga.likelihood(x))\n",
    "       0.0634936359342\n",
    "    >>># Multivariate example\n",
    "    >>>mean = np.array([10.0, 10.0])\n",
    "    >>>cov  = np.array([[  1.,   0.],[  0.,  10.]])\n",
    "    >>>ga   = gauss.Gaussian(mean,cov)\n",
    "    >>>print (ga.f(np.array([10.,10.])))\n",
    "       0.050329212104487035\n",
    "    >>>x = np.array([[10.,10.],[10.,10.],[10.,10.],[10.,10.]])\n",
    "    >>>print (ga.likelihood(x))\n",
    "       6.4162389091777101e-06\n",
    "    '''\n",
    "    def __init__(self, mean=None, cov=None):\n",
    "        \n",
    "        if mean is not None and cov is not None:\n",
    "            mean = np.array(mean); cov = np.array(cov)\n",
    "            d,n = cov.shape\n",
    "        \n",
    "            self._dim = d\n",
    "            self._mean = mean.flatten()\n",
    "            self._cov = cov\n",
    "            self._covdet = np.linalg.det(2.0*np.pi*cov)\n",
    "        \n",
    "            if self._covdet < 10e-12:\n",
    "                \n",
    "                raise ValueError('The covariance matrix is singular.')\n",
    "    def fit(self,data):\n",
    "        '''\n",
    "        Fit data to the Gaussian model and return the sample mean and covariance\n",
    "        of the data.\n",
    "        \n",
    "        Parameters\n",
    "        ----------\n",
    "        data: (n,d) ndarray\n",
    "              n samples, each of dimension d\n",
    "              \n",
    "        '''\n",
    "        self._mean = np.mean(data,axis=0)\n",
    "        self._cov  = np.cov(data.T)\n",
    "        \n",
    "        \n",
    "            \n",
    "    def f(self, x):\n",
    "        '''\n",
    "        Calculate the value of the normal distributions at x\n",
    "        \n",
    "        Parameters\n",
    "        ----------\n",
    "        x : (d,) ndarray\n",
    "           Evaluate a single d-dimensional samples x\n",
    "           \n",
    "        Returns\n",
    "        -------\n",
    "        val : scalar\n",
    "           The value of the normal distribution at x.\n",
    "        \n",
    "        '''\n",
    "        \n",
    "        return np.exp(self.logf(x))\n",
    "    \n",
    "    def logf(self, x):\n",
    "        '''\n",
    "        Calculate  the log-density at x\n",
    "        \n",
    "        Parameters\n",
    "        ----------\n",
    "        x : (d,) ndarray\n",
    "           Evaluate the log-normal distribution at a single d-dimensional \n",
    "           sample x\n",
    "           \n",
    "        Returns\n",
    "        -------\n",
    "        val : scalar\n",
    "           The value of the log of the normal distribution at x.\n",
    "        '''\n",
    "        #x = x[:,np.newaxis]\n",
    "        trans = x - self._mean\n",
    "        mal   = -trans.dot(np.linalg.solve(self._cov,trans))/2.\n",
    "        return -0.5*np.log(self._covdet) + mal\n",
    "\n",
    "\n",
    "    def likelihood(self, x):\n",
    "        '''\n",
    "        Calculates the likelihood of the data set x for the normal\n",
    "        distribution.\n",
    "        \n",
    "        Parameters\n",
    "        ----------\n",
    "        x :  (n,d) ndarray\n",
    "           Calculate the likelihood of n, d-dimensional samples\n",
    "           \n",
    "        Returns\n",
    "        -------\n",
    "        val : scalar\n",
    "           The likelihood value   \n",
    "        '''\n",
    "        return np.exp(self.loglik(x))\n",
    "\n",
    "    def loglik(self, x):\n",
    "        '''\n",
    "        Calculates  the log-likelihood of the data set x for the normal \n",
    "        distribution.\n",
    "        \n",
    "        Parameters\n",
    "        ----------\n",
    "        x :  (d,n) ndarray\n",
    "           Calculate the likelihood of n, d-dimensional samples\n",
    "           \n",
    "        Returns\n",
    "        -------\n",
    "        val : scalar\n",
    "           The log-likelihood value\n",
    "        '''\n",
    "        return np.sum(np.apply_along_axis(self.logf, 1, x))\n",
    "\n",
    "\n",
    "    def sample(self, n=1):\n",
    "        '''\n",
    "        Calculates n independent points sampled from the normal distribution\n",
    "        \n",
    "        Parameters\n",
    "        ----------\n",
    "        n : int\n",
    "           The number of samples\n",
    "           \n",
    "        Returns\n",
    "        -------\n",
    "        samples : (n,d) ndarray\n",
    "           n, d-dimensional samples\n",
    "        \n",
    "        '''\n",
    "\n",
    "        return np.random.multivariate_normal(self._mean, self._cov, n)\n",
    "        \n",
    "    def get_params(self):\n",
    "        '''\n",
    "        Returns the parameters of the Gaussian\n",
    "        \n",
    "        Returns\n",
    "        -------\n",
    "        mean: (d,) ndarray\n",
    "              The mean \n",
    "        cov: (d,d) ndarray\n",
    "             The covariance\n",
    "        '''\n",
    "        \n",
    "        return self._mean, self._cov\n",
    "    \n",
    "\n"
   ]
  },
  {
   "cell_type": "code",
   "execution_count": 67,
   "metadata": {},
   "outputs": [
    {
     "name": "stdout",
     "output_type": "stream",
     "text": [
      "[1. 1.]\n",
      "[[ 1. -1.]\n",
      " [-1.  1.]]\n"
     ]
    }
   ],
   "source": [
    "data = np.array([[0, 2], [1, 1], [2, 0]])\n",
    "ga=Gaussian()\n",
    "ga.fit(data)\n",
    "mean, cov = ga.get_params()\n",
    "print(mean)\n",
    "print(cov)"
   ]
  },
  {
   "cell_type": "code",
   "execution_count": 68,
   "metadata": {},
   "outputs": [
    {
     "name": "stdout",
     "output_type": "stream",
     "text": [
      "[1. 1.]\n",
      "[[ 1.00967872 -1.00967872]\n",
      " [-1.00967872  1.00967872]]\n"
     ]
    }
   ],
   "source": [
    "samples = ga.sample(10000)\n",
    "ga2 = Gaussian()\n",
    "ga2.fit(samples)\n",
    "means, cov = ga2.get_params()\n",
    "print (mean)\n",
    "print (cov)"
   ]
  },
  {
   "cell_type": "code",
   "execution_count": 70,
   "metadata": {},
   "outputs": [
    {
     "name": "stdout",
     "output_type": "stream",
     "text": [
      "f(10) = 0.3989422804014327\n",
      "likelihood =  0.06349363593424098\n"
     ]
    },
    {
     "data": {
      "text/plain": [
       "<function matplotlib.pyplot.show(*args, **kw)>"
      ]
     },
     "execution_count": 70,
     "metadata": {},
     "output_type": "execute_result"
    }
   ],
   "source": [
    "#univariate\n",
    "mean = np.array([10.])\n",
    "cov  = np.array([[1.]])\n",
    "ga   = Gaussian(mean,cov)\n",
    "\n",
    "print ('f(10) =', ga.f([10.]))\n",
    "        \n",
    "x = np.array([[10.],[10.],[10.]])\n",
    "print ('likelihood = ',ga.likelihood(x))"
   ]
  },
  {
   "cell_type": "code",
   "execution_count": 71,
   "metadata": {},
   "outputs": [
    {
     "name": "stdout",
     "output_type": "stream",
     "text": [
      "f([10,10])= 0.050329212104487035\n",
      "likelihood =  6.41623890917771e-06\n"
     ]
    }
   ],
   "source": [
    "#multivariate\n",
    "mean = np.array([10.0, 10.0])\n",
    "cov  = np.array([[  1.,   0.],[  0.,  10.]])\n",
    "ga   = Gaussian(mean,cov)\n",
    "print ('f([10,10])=',ga.f(np.array([10.,10.])))\n",
    "        \n",
    "x = np.array([[10.,10.],[10.,10.],[10.,10.],[10.,10.]])\n",
    "print ('likelihood = ',ga.likelihood(x))\n",
    "        "
   ]
  },
  {
   "cell_type": "code",
   "execution_count": null,
   "metadata": {},
   "outputs": [],
   "source": [
    "'''We now use the sample method to provide us with samples from a\n",
    "multivariate normal distribution. These samples are visually displayed\n",
    "using the 2d histogram method provided by `numpy`. \n",
    "Note that the half million samples are provided quite quickly.'''"
   ]
  },
  {
   "cell_type": "code",
   "execution_count": 74,
   "metadata": {},
   "outputs": [],
   "source": [
    "g1=Gaussian([5,1],[[10,0],[0,1]])\n",
    "s1 = g1.sample(500000).T #note the transpose"
   ]
  },
  {
   "cell_type": "code",
   "execution_count": 76,
   "metadata": {},
   "outputs": [
    {
     "name": "stdout",
     "output_type": "stream",
     "text": [
      "(500, 166)\n"
     ]
    },
    {
     "data": {
      "image/png": "[encoded data removed]",
      "text/plain": [
       "<Figure size 432x288 with 1 Axes>"
      ]
     },
     "metadata": {
      "needs_background": "light"
     },
     "output_type": "display_data"
    }
   ],
   "source": [
    "#set boundaries\n",
    "xmin = np.min(s1[0])\n",
    "xmax = np.max(s1[0])\n",
    "ymin = np.min(s1[1])\n",
    "ymax = np.max(s1[1])\n",
    "xbin = 500\n",
    "ybin = np.int(xbin*(ymax-ymin)/(xmax-xmin))\n",
    "H,xedge,yedge = np.histogram2d(s1[0], s1[1], bins=[xbin,ybin], range = [[xmin,xmax],[ymin,ymax]],normed=False)\n",
    "print (H.shape)\n",
    "plt.imshow(H.T,cmap='hot', extent = [xmin,xmax,ymin,ymax], interpolation='nearest')\n",
    "plt.show()"
   ]
  }
 ],
 "metadata": {
  "kernelspec": {
   "display_name": "Python 3",
   "language": "python",
   "name": "python3"
  },
  "language_info": {
   "codemirror_mode": {
    "name": "ipython",
    "version": 3
   },
   "file_extension": ".py",
   "mimetype": "text/x-python",
   "name": "python",
   "nbconvert_exporter": "python",
   "pygments_lexer": "ipython3",
   "version": "3.7.4"
  }
 },
 "nbformat": 4,
 "nbformat_minor": 2
}
