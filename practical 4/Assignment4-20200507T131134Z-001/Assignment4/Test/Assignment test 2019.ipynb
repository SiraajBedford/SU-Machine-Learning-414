{
 "cells": [
  {
   "cell_type": "markdown",
   "metadata": {},
   "source": [
    "# Student number // Studentenommer: "
   ]
  },
  {
   "cell_type": "markdown",
   "metadata": {},
   "source": [
    "## Instructions\n",
    "\n",
    "1. **Answer the following questions *in the answer book provided*, doing calculations in this notebook where necessary/desired. At the end, hand in the answer book and submit the notebook on SunLearn.**\n",
    "2. Fill in your student number above.\n",
    "\n",
    "--------------\n",
    "\n",
    "1. ** *Beantwoord die volgende vrae* in die antwoordboek wat verskaf is, *en doen u berekeninge in hierdie notaboek waar nodig/gewens. Aan die einde, handig die antwoordboek in en dien hierdie notaboek op SunLearn in.* ** \n",
    "2. *Voltooi u studentenommer hierbo.*\n"
   ]
  },
  {
   "cell_type": "code",
   "execution_count": null,
   "metadata": {
    "collapsed": true
   },
   "outputs": [],
   "source": [
    "# Execute this cell to import relevant libraries\n",
    "import numpy as np"
   ]
  },
  {
   "cell_type": "markdown",
   "metadata": {},
   "source": [
    "**Question 1 (3 marks) // *Vraag 1 (3 punte)* **\n",
    "\n",
    "(a) What is the name of the algorithmic technique used in certain HMM algorithms to avoid an exponential-time explicit enumeration of all possible state sequences? // *Wat is die naam van die algoritmiese tegniek wat gebruik word in sekere VMM algoritmes om 'n eksponensiële-tyd eksplisiete enumerasie van alle moontlike toestandsekwensies te vermy?* [1]\n",
    "\n",
    "(b) Which algorithms were you to implement in this assignment making use of this technique? // *Watter algoritmes moes u in hierdie taak implementeer wat van hierdie tegniek gebruik maak?* [2]"
   ]
  },
  {
   "cell_type": "markdown",
   "metadata": {
    "collapsed": true
   },
   "source": [
    "**Question 2 (3 mark) // Vraag 2 (3 punte)**\n",
    "\n",
    "In this assignment, you used the (hard-allocation) EM algorithm to fit the HMM parameters.  For the following\n",
    "functions in the assignment, indicate whether they performed calculations for the E-step, the M-step, or both.  If both, indicate what portions of the function belong to each step.// *In hierdie taak, het u die (harde toekenning) VM algoritme gebruik om die VMM parameters te pas.  Vir die volgende funksies in die taak, dui aan of hulle berekeninge gedoen het vir die V-stap, die M-stap, of beide.  Indien beide, dui aan watter dele van die funksie by die onderskeie stappe pas.*\n",
    "\n",
    "(a) ``_calcstates``\n",
    "    \n",
    "(b) ``_updatecovs``"
   ]
  },
  {
   "cell_type": "markdown",
   "metadata": {},
   "source": [
    "**Question 3 (1 mark) // Vraag 3 (1 punt)**\n",
    "\n",
    "The two lines of code below appear (within 3 nested loops) in the memo for this assignment.  Which method that you needed to implement does the code come from? // *Die twee reëls kode hieronder verskyn (binne 3 geneste lusse) in die memo vir hierdie taak. Uit watter klasfunksie wat julle moes implementeer kom dit?*\n",
    "\n",
    "``templl = np.log(trans[prev, state]) + lltable[prev, time-1]\n",
    "lltable[state, time] = np.logaddexp(lltable[state, time], templl)``"
   ]
  },
  {
   "cell_type": "markdown",
   "metadata": {},
   "source": [
    "**Question 4 (3 marks) // Vraag 4 (3 punte)**\n",
    "\n",
    "Consider the observation sequence ``signal5`` defined below.  Give, under the toy model trained in the assignment: // *Beskou die waarnemingsekwensie* ``signal5`` *hieronder gedefinieer.  Gee, onder die speelmodel afgerig in die taak:*\n",
    "\n",
    "(a) the log-likelihood of this observation sequence // *die log-aanneemlikheid van hierdie waarnemingsekwensie* [1];\n",
    "\n",
    "(b) the most likely state sequence corresponding to this observation sequence // *die mees waarskynlike toestandsekwensie wat ooreenstem met hierdie waarnemingsekwensie* [1];\n",
    "\n",
    "and // *en*\n",
    "\n",
    "(c) the log-likelihood of this signal and the corresponding most likely state sequence // *die log-aanneemlikheid van hierdie sein en die ooreenstemmende mees waarskynlike toestandsekwensie* [1]."
   ]
  },
  {
   "cell_type": "code",
   "execution_count": null,
   "metadata": {
    "collapsed": false
   },
   "outputs": [],
   "source": [
    "signal5 = np.array([[ 0.7, 0.5, 0.6, 2.5]])"
   ]
  }
 ],
 "metadata": {
  "kernelspec": {
   "display_name": "Python 3",
   "language": "python",
   "name": "python3"
  },
  "language_info": {
   "codemirror_mode": {
    "name": "ipython",
    "version": 3
   },
   "file_extension": ".py",
   "mimetype": "text/x-python",
   "name": "python",
   "nbconvert_exporter": "python",
   "pygments_lexer": "ipython3",
   "version": "3.5.2"
  },
  "widgets": {
   "state": {},
   "version": "1.1.2"
  }
 },
 "nbformat": 4,
 "nbformat_minor": 0
}
